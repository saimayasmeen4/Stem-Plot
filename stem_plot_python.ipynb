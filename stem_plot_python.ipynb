{
  "nbformat": 4,
  "nbformat_minor": 0,
  "metadata": {
    "colab": {
      "name": "stem plot python.ipynb",
      "provenance": [],
      "collapsed_sections": []
    },
    "kernelspec": {
      "name": "python3",
      "display_name": "Python 3"
    },
    "language_info": {
      "name": "python"
    }
  },
  "cells": [
    {
      "cell_type": "code",
      "metadata": {
        "id": "crmZYXBnEVmt"
      },
      "source": [
        "# -- coding: utf-8 --\n",
        "\"\"\"\n",
        "Created on Tue Sep 14 14:25:43 2021\n",
        "\n",
        "@author: Saima Yasmeen\n",
        "\"\"\"\n",
        "\n",
        "\n",
        "import matplotlib.pyplot as plt\n",
        "\n",
        "import numpy as np\n",
        "\n",
        "a= np.array([\"AFPNC[44]\",  \"BRDNET[43]\",  \"DUDENET[45]\",  \"ADNET[36]\",  \"LPNET[23]\", \"Proposed\"])\n",
        "b= np.array([0.39, 0.57, 0.56, 0.675,0.768, 0.891])\n",
        "plt.stem(a,b, '-.')\n",
        "#spacing = 0.500\n",
        "#plt.subplots_adjust(bottom=spacing)\n",
        "plt.tick_params(axis='x', which='major', labelsize=8)\n",
        "plt.xlabel(\"$Schemes$\")\n",
        "plt.ylabel(\"$SSIM$\")\n",
        "plt.savefig(\"saima.png\", dpi=300)\n",
        "plt.show()"
      ],
      "execution_count": null,
      "outputs": []
    }
  ]
}